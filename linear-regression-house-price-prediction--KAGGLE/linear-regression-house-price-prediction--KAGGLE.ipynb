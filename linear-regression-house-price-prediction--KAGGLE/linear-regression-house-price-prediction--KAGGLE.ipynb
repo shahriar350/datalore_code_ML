{
 "cells":[
  {
   "cell_type":"code",
   "source":[
    "import pandas as pd\n",
    "import matplotlib.pyplot as plt\n",
    "import numpy as np\n",
    "import seaborn as sns\n",
    "sns.set_style(\"whitegrid\")\n",
    "plt.style.use(\"fivethirtyeight\")"
   ],
   "execution_count":null,
   "outputs":[],
   "metadata":{
    "datalore":{
     "node_id":"wg25tB4gQjuID24OoXSxS6",
     "type":"CODE",
     "hide_input_from_viewers":true,
     "hide_output_from_viewers":true
    }
   }
  },
  {
   "cell_type":"code",
   "source":[
    "# import dataset\n",
    "USAhousing = pd.read_csv('USA_Housing.csv')\n",
    "USAhousing.head()"
   ],
   "execution_count":null,
   "outputs":[
    {
     "data":{
      "text\/html":[
       "<div>\n",
       "<style scoped>\n",
       "    .dataframe tbody tr th:only-of-type {\n",
       "        vertical-align: middle;\n",
       "    }\n",
       "\n",
       "    .dataframe tbody tr th {\n",
       "        vertical-align: top;\n",
       "    }\n",
       "\n",
       "    .dataframe thead th {\n",
       "        text-align: right;\n",
       "    }\n",
       "<\/style>\n",
       "<table border=\"1\" class=\"dataframe\">\n",
       "  <thead>\n",
       "    <tr style=\"text-align: right;\">\n",
       "      <th><\/th>\n",
       "      <th>Avg. Area Income<\/th>\n",
       "      <th>Avg. Area House Age<\/th>\n",
       "      <th>Avg. Area Number of Rooms<\/th>\n",
       "      <th>Avg. Area Number of Bedrooms<\/th>\n",
       "      <th>Area Population<\/th>\n",
       "      <th>Price<\/th>\n",
       "      <th>Address<\/th>\n",
       "    <\/tr>\n",
       "  <\/thead>\n",
       "  <tbody>\n",
       "    <tr>\n",
       "      <th>0<\/th>\n",
       "      <td>79545.458574<\/td>\n",
       "      <td>5.682861<\/td>\n",
       "      <td>7.009188<\/td>\n",
       "      <td>4.09<\/td>\n",
       "      <td>23086.800503<\/td>\n",
       "      <td>1.059034e+06<\/td>\n",
       "      <td>208 Michael Ferry Apt. 674\\nLaurabury, NE 3701...<\/td>\n",
       "    <\/tr>\n",
       "    <tr>\n",
       "      <th>1<\/th>\n",
       "      <td>79248.642455<\/td>\n",
       "      <td>6.002900<\/td>\n",
       "      <td>6.730821<\/td>\n",
       "      <td>3.09<\/td>\n",
       "      <td>40173.072174<\/td>\n",
       "      <td>1.505891e+06<\/td>\n",
       "      <td>188 Johnson Views Suite 079\\nLake Kathleen, CA...<\/td>\n",
       "    <\/tr>\n",
       "    <tr>\n",
       "      <th>2<\/th>\n",
       "      <td>61287.067179<\/td>\n",
       "      <td>5.865890<\/td>\n",
       "      <td>8.512727<\/td>\n",
       "      <td>5.13<\/td>\n",
       "      <td>36882.159400<\/td>\n",
       "      <td>1.058988e+06<\/td>\n",
       "      <td>9127 Elizabeth Stravenue\\nDanieltown, WI 06482...<\/td>\n",
       "    <\/tr>\n",
       "    <tr>\n",
       "      <th>3<\/th>\n",
       "      <td>63345.240046<\/td>\n",
       "      <td>7.188236<\/td>\n",
       "      <td>5.586729<\/td>\n",
       "      <td>3.26<\/td>\n",
       "      <td>34310.242831<\/td>\n",
       "      <td>1.260617e+06<\/td>\n",
       "      <td>USS Barnett\\nFPO AP 44820<\/td>\n",
       "    <\/tr>\n",
       "    <tr>\n",
       "      <th>4<\/th>\n",
       "      <td>59982.197226<\/td>\n",
       "      <td>5.040555<\/td>\n",
       "      <td>7.839388<\/td>\n",
       "      <td>4.23<\/td>\n",
       "      <td>26354.109472<\/td>\n",
       "      <td>6.309435e+05<\/td>\n",
       "      <td>USNS Raymond\\nFPO AE 09386<\/td>\n",
       "    <\/tr>\n",
       "  <\/tbody>\n",
       "<\/table>\n",
       "<\/div>"
      ]
     },
     "metadata":{},
     "output_type":"display_data"
    }
   ],
   "metadata":{
    "datalore":{
     "node_id":"zOddhmToh6AO965JdCGR35",
     "type":"CODE",
     "hide_input_from_viewers":true,
     "hide_output_from_viewers":true
    }
   }
  },
  {
   "cell_type":"code",
   "source":[
    "USAhousing.info()"
   ],
   "execution_count":null,
   "outputs":[
    {
     "name":"stdout",
     "text":[
      "<class 'pandas.core.frame.DataFrame'>\n",
      "RangeIndex: 5000 entries, 0 to 4999\n",
      "Data columns (total 7 columns):\n",
      " #   Column                        Non-Null Count  Dtype  \n",
      "---  ------                        --------------  -----  \n",
      " 0   Avg. Area Income              5000 non-null   float64\n",
      " 1   Avg. Area House Age           5000 non-null   float64\n",
      " 2   Avg. Area Number of Rooms     5000 non-null   float64\n",
      " 3   Avg. Area Number of Bedrooms  5000 non-null   float64\n",
      " 4   Area Population               5000 non-null   float64\n",
      " 5   Price                         5000 non-null   float64\n",
      " 6   Address                       5000 non-null   object \n",
      "dtypes: float64(6), object(1)\n",
      "memory usage: 273.6+ KB\n"
     ],
     "output_type":"stream"
    }
   ],
   "metadata":{
    "datalore":{
     "node_id":"13haVXyenm9ZRfbH61n8v5",
     "type":"CODE",
     "hide_input_from_viewers":true,
     "hide_output_from_viewers":true
    }
   }
  },
  {
   "cell_type":"code",
   "source":[
    "USAhousing.describe()"
   ],
   "execution_count":null,
   "outputs":[
    {
     "data":{
      "text\/html":[
       "<div>\n",
       "<style scoped>\n",
       "    .dataframe tbody tr th:only-of-type {\n",
       "        vertical-align: middle;\n",
       "    }\n",
       "\n",
       "    .dataframe tbody tr th {\n",
       "        vertical-align: top;\n",
       "    }\n",
       "\n",
       "    .dataframe thead th {\n",
       "        text-align: right;\n",
       "    }\n",
       "<\/style>\n",
       "<table border=\"1\" class=\"dataframe\">\n",
       "  <thead>\n",
       "    <tr style=\"text-align: right;\">\n",
       "      <th><\/th>\n",
       "      <th>Avg. Area Income<\/th>\n",
       "      <th>Avg. Area House Age<\/th>\n",
       "      <th>Avg. Area Number of Rooms<\/th>\n",
       "      <th>Avg. Area Number of Bedrooms<\/th>\n",
       "      <th>Area Population<\/th>\n",
       "      <th>Price<\/th>\n",
       "    <\/tr>\n",
       "  <\/thead>\n",
       "  <tbody>\n",
       "    <tr>\n",
       "      <th>count<\/th>\n",
       "      <td>5000.000000<\/td>\n",
       "      <td>5000.000000<\/td>\n",
       "      <td>5000.000000<\/td>\n",
       "      <td>5000.000000<\/td>\n",
       "      <td>5000.000000<\/td>\n",
       "      <td>5.000000e+03<\/td>\n",
       "    <\/tr>\n",
       "    <tr>\n",
       "      <th>mean<\/th>\n",
       "      <td>68583.108984<\/td>\n",
       "      <td>5.977222<\/td>\n",
       "      <td>6.987792<\/td>\n",
       "      <td>3.981330<\/td>\n",
       "      <td>36163.516039<\/td>\n",
       "      <td>1.232073e+06<\/td>\n",
       "    <\/tr>\n",
       "    <tr>\n",
       "      <th>std<\/th>\n",
       "      <td>10657.991214<\/td>\n",
       "      <td>0.991456<\/td>\n",
       "      <td>1.005833<\/td>\n",
       "      <td>1.234137<\/td>\n",
       "      <td>9925.650114<\/td>\n",
       "      <td>3.531176e+05<\/td>\n",
       "    <\/tr>\n",
       "    <tr>\n",
       "      <th>min<\/th>\n",
       "      <td>17796.631190<\/td>\n",
       "      <td>2.644304<\/td>\n",
       "      <td>3.236194<\/td>\n",
       "      <td>2.000000<\/td>\n",
       "      <td>172.610686<\/td>\n",
       "      <td>1.593866e+04<\/td>\n",
       "    <\/tr>\n",
       "    <tr>\n",
       "      <th>25%<\/th>\n",
       "      <td>61480.562388<\/td>\n",
       "      <td>5.322283<\/td>\n",
       "      <td>6.299250<\/td>\n",
       "      <td>3.140000<\/td>\n",
       "      <td>29403.928702<\/td>\n",
       "      <td>9.975771e+05<\/td>\n",
       "    <\/tr>\n",
       "    <tr>\n",
       "      <th>50%<\/th>\n",
       "      <td>68804.286404<\/td>\n",
       "      <td>5.970429<\/td>\n",
       "      <td>7.002902<\/td>\n",
       "      <td>4.050000<\/td>\n",
       "      <td>36199.406689<\/td>\n",
       "      <td>1.232669e+06<\/td>\n",
       "    <\/tr>\n",
       "    <tr>\n",
       "      <th>75%<\/th>\n",
       "      <td>75783.338666<\/td>\n",
       "      <td>6.650808<\/td>\n",
       "      <td>7.665871<\/td>\n",
       "      <td>4.490000<\/td>\n",
       "      <td>42861.290769<\/td>\n",
       "      <td>1.471210e+06<\/td>\n",
       "    <\/tr>\n",
       "    <tr>\n",
       "      <th>max<\/th>\n",
       "      <td>107701.748378<\/td>\n",
       "      <td>9.519088<\/td>\n",
       "      <td>10.759588<\/td>\n",
       "      <td>6.500000<\/td>\n",
       "      <td>69621.713378<\/td>\n",
       "      <td>2.469066e+06<\/td>\n",
       "    <\/tr>\n",
       "  <\/tbody>\n",
       "<\/table>\n",
       "<\/div>"
      ]
     },
     "metadata":{},
     "output_type":"display_data"
    }
   ],
   "metadata":{
    "datalore":{
     "node_id":"AzcHA3VoW03QDNBspBHbhG",
     "type":"CODE",
     "hide_input_from_viewers":true,
     "hide_output_from_viewers":true
    }
   }
  },
  {
   "cell_type":"code",
   "source":[
    "USAhousing.columns"
   ],
   "execution_count":null,
   "outputs":[
    {
     "data":{
      "text\/plain":[
       "Index(['Avg. Area Income', 'Avg. Area House Age', 'Avg. Area Number of Rooms',\n",
       "       'Avg. Area Number of Bedrooms', 'Area Population', 'Price', 'Address'],\n",
       "      dtype='object')"
      ]
     },
     "metadata":{},
     "output_type":"display_data"
    }
   ],
   "metadata":{
    "datalore":{
     "node_id":"1mvo1PxeXnYPVjEGi41GA8",
     "type":"CODE",
     "hide_input_from_viewers":true,
     "hide_output_from_viewers":true
    }
   }
  },
  {
   "cell_type":"markdown",
   "source":[
    "#### **Exploratory Data Analysis (EDA)**"
   ],
   "attachments":{},
   "metadata":{
    "datalore":{
     "node_id":"YjOMVhd33F76eHjXkVDDEv",
     "type":"MD",
     "hide_input_from_viewers":true,
     "hide_output_from_viewers":true
    }
   }
  },
  {
   "cell_type":"code",
   "source":[
    "sns.pairplot(USAhousing)"
   ],
   "execution_count":null,
   "outputs":[
    {
     "data":{
      "text\/plain":[
       "<seaborn.axisgrid.PairGrid at 0x7fbf27f25ac0>"
      ]
     },
     "metadata":{},
     "output_type":"display_data"
    },
    {
     "data":{},
     "metadata":{},
     "output_type":"display_data"
    }
   ],
   "metadata":{
    "datalore":{
     "node_id":"GTnb4dLlhFKovwXZCxQdLF",
     "type":"CODE",
     "hide_input_from_viewers":true,
     "hide_output_from_viewers":true
    }
   }
  },
  {
   "cell_type":"code",
   "source":[
    "sns.displot(USAhousing['Price'])"
   ],
   "execution_count":null,
   "outputs":[
    {
     "data":{
      "text\/plain":[
       "<seaborn.axisgrid.FacetGrid at 0x7fbf3615aa00>"
      ]
     },
     "metadata":{},
     "output_type":"display_data"
    },
    {
     "data":{},
     "metadata":{},
     "output_type":"display_data"
    }
   ],
   "metadata":{
    "datalore":{
     "node_id":"4DyTreJ5uKAevSaUMMJ6MN",
     "type":"CODE",
     "hide_input_from_viewers":true,
     "hide_output_from_viewers":true
    }
   }
  },
  {
   "cell_type":"code",
   "source":[
    "sns.heatmap(USAhousing.corr(),annot=True)"
   ],
   "execution_count":null,
   "outputs":[
    {
     "data":{
      "text\/plain":[
       "<AxesSubplot:>"
      ]
     },
     "metadata":{},
     "output_type":"display_data"
    },
    {
     "data":{},
     "metadata":{},
     "output_type":"display_data"
    }
   ],
   "metadata":{
    "datalore":{
     "node_id":"s0JmpNcu9Ekc0PSM4KngHY",
     "type":"CODE",
     "hide_input_from_viewers":true,
     "hide_output_from_viewers":true
    }
   }
  },
  {
   "cell_type":"markdown",
   "source":[
    "#### Training a Linear Regression Model"
   ],
   "attachments":{},
   "metadata":{
    "datalore":{
     "node_id":"je3ZDqhYj1oaEgZsNcUhwd",
     "type":"MD",
     "hide_input_from_viewers":true,
     "hide_output_from_viewers":true
    }
   }
  },
  {
   "cell_type":"markdown",
   "source":[
    "**X and y arrays**"
   ],
   "attachments":{},
   "metadata":{
    "datalore":{
     "node_id":"hOjyNmshuqJxWt8GOk4I18",
     "type":"MD",
     "hide_input_from_viewers":true,
     "hide_output_from_viewers":true
    }
   }
  },
  {
   "cell_type":"code",
   "source":[
    "X = USAhousing[['Avg. Area Income','Avg. Area House Age','Avg. Area Number of Rooms','Avg. Area Number of Bedrooms','Area Population']]\n",
    "y = USAhousing['Price']"
   ],
   "execution_count":null,
   "outputs":[],
   "metadata":{
    "datalore":{
     "node_id":"ZIe9X7bdXjgsdkLvv1ScGc",
     "type":"CODE",
     "hide_input_from_viewers":true,
     "hide_output_from_viewers":true
    }
   }
  },
  {
   "cell_type":"markdown",
   "source":[
    "**Train test split**"
   ],
   "attachments":{},
   "metadata":{
    "datalore":{
     "node_id":"pJRMSxjHjnIQlLKWtZHwBJ",
     "type":"MD",
     "hide_input_from_viewers":true,
     "hide_output_from_viewers":true
    }
   }
  },
  {
   "cell_type":"code",
   "source":[
    "from sklearn.model_selection import train_test_split"
   ],
   "execution_count":null,
   "outputs":[],
   "metadata":{
    "datalore":{
     "node_id":"LZqLNbhjKC31kyHw8lpaKs",
     "type":"CODE",
     "hide_input_from_viewers":true,
     "hide_output_from_viewers":true
    }
   }
  },
  {
   "cell_type":"code",
   "source":[
    "X_train, X_test, y_train, y_test = train_test_split(X,y,random_state=42,test_size=0.3)"
   ],
   "execution_count":null,
   "outputs":[],
   "metadata":{
    "datalore":{
     "node_id":"ofZXzBnDDU5oNxp3u9vznp",
     "type":"CODE",
     "hide_input_from_viewers":true,
     "hide_output_from_viewers":true
    }
   }
  },
  {
   "cell_type":"code",
   "source":[
    "from sklearn import metrics\n",
    "from sklearn.model_selection import cross_val_score\n",
    "\n",
    "def cross_val(model):\n",
    "    pred = cross_val_score(model,X,y,cv=10)\n",
    "    return pred.mean()\n",
    "\n",
    "def print_evaluate(true,predicted):\n",
    "    mae = metrics.mean_absolute_error(true,predicted)\n",
    "    mse = metrics.mean_squared_error(true,predicted)\n",
    "    rmse = np.sqrt(metrics.mean_squared_error(true,predicted))\n",
    "    r2_square = metrics.r2_score(true,predicted)\n",
    "\n",
    "    print('Mean Absulute Error: ',mae)\n",
    "    print('Mean Squared Error: ',mse)\n",
    "    print('Root Mean Squared Error: ',rmse)\n",
    "    print('R2 Square: ',r2_square)\n",
    "    print('___________________________')\n",
    "\n",
    "def evaluate(true,predicted):\n",
    "    mae = metrics.mean_absolute_error(true, predicted)\n",
    "    mse = metrics.mean_squared_error(true, predicted)\n",
    "    rmse = np.sqrt(metrics.mean_squared_error(true, predicted))\n",
    "    r2_square = metrics.r2_score(true, predicted)\n",
    "    return mae, mse, rmse, r2_square"
   ],
   "execution_count":null,
   "outputs":[],
   "metadata":{
    "datalore":{
     "node_id":"LV9ukosr4RMzYuWL15jtAF",
     "type":"CODE",
     "hide_input_from_viewers":true,
     "hide_output_from_viewers":true
    }
   }
  },
  {
   "cell_type":"markdown",
   "source":[
    "**Preparing Data For Linear Regression**"
   ],
   "attachments":{},
   "metadata":{
    "datalore":{
     "node_id":"0eL5Djj2k27LpBrvMiaj1I",
     "type":"MD",
     "hide_input_from_viewers":true,
     "hide_output_from_viewers":true
    }
   }
  },
  {
   "cell_type":"code",
   "source":[
    "from sklearn.preprocessing import StandardScaler\n",
    "from sklearn.pipeline import Pipeline\n",
    "\n",
    "pipeline = Pipeline([\n",
    "    ('std_scalar', StandardScaler())\n",
    "])\n",
    "\n",
    "X_train = pipeline.fit_transform(X_train)\n",
    "X_test = pipeline.transform(X_test)"
   ],
   "execution_count":null,
   "outputs":[],
   "metadata":{
    "datalore":{
     "node_id":"gvPWFszFVYzfgbAZfUfCcx",
     "type":"CODE",
     "hide_input_from_viewers":true,
     "hide_output_from_viewers":true
    }
   }
  },
  {
   "cell_type":"code",
   "source":[
    "from sklearn.linear_model import LinearRegression\n",
    "lin_reg = LinearRegression(normalize = True)\n",
    "lin_reg.fit(X_train,y_train)"
   ],
   "execution_count":null,
   "outputs":[
    {
     "data":{
      "text\/plain":[
       "LinearRegression(normalize=True)"
      ]
     },
     "metadata":{},
     "output_type":"display_data"
    }
   ],
   "metadata":{
    "datalore":{
     "node_id":"C785xx9WAXlK6YgrUmhBfZ",
     "type":"CODE",
     "hide_input_from_viewers":true,
     "hide_output_from_viewers":true
    }
   }
  },
  {
   "cell_type":"code",
   "source":[
    "print(lin_reg.intercept_)"
   ],
   "execution_count":null,
   "outputs":[
    {
     "name":"stdout",
     "text":[
      "1228219.1492415662\n"
     ],
     "output_type":"stream"
    }
   ],
   "metadata":{
    "datalore":{
     "node_id":"X33bDe8cZrKlF3azY5M01u",
     "type":"CODE",
     "hide_input_from_viewers":true,
     "hide_output_from_viewers":true
    }
   }
  },
  {
   "cell_type":"code",
   "source":[
    "coeff_df = pd.DataFrame(lin_reg.coef_,X.columns,columns=['Co-efficient'])\n",
    "coeff_df"
   ],
   "execution_count":null,
   "outputs":[
    {
     "data":{
      "text\/html":[
       "<div>\n",
       "<style scoped>\n",
       "    .dataframe tbody tr th:only-of-type {\n",
       "        vertical-align: middle;\n",
       "    }\n",
       "\n",
       "    .dataframe tbody tr th {\n",
       "        vertical-align: top;\n",
       "    }\n",
       "\n",
       "    .dataframe thead th {\n",
       "        text-align: right;\n",
       "    }\n",
       "<\/style>\n",
       "<table border=\"1\" class=\"dataframe\">\n",
       "  <thead>\n",
       "    <tr style=\"text-align: right;\">\n",
       "      <th><\/th>\n",
       "      <th>Co-efficient<\/th>\n",
       "    <\/tr>\n",
       "  <\/thead>\n",
       "  <tbody>\n",
       "    <tr>\n",
       "      <th>Avg. Area Income<\/th>\n",
       "      <td>232679.724643<\/td>\n",
       "    <\/tr>\n",
       "    <tr>\n",
       "      <th>Avg. Area House Age<\/th>\n",
       "      <td>163841.046593<\/td>\n",
       "    <\/tr>\n",
       "    <tr>\n",
       "      <th>Avg. Area Number of Rooms<\/th>\n",
       "      <td>121110.555478<\/td>\n",
       "    <\/tr>\n",
       "    <tr>\n",
       "      <th>Avg. Area Number of Bedrooms<\/th>\n",
       "      <td>2892.815119<\/td>\n",
       "    <\/tr>\n",
       "    <tr>\n",
       "      <th>Area Population<\/th>\n",
       "      <td>151252.342377<\/td>\n",
       "    <\/tr>\n",
       "  <\/tbody>\n",
       "<\/table>\n",
       "<\/div>"
      ]
     },
     "metadata":{},
     "output_type":"display_data"
    }
   ],
   "metadata":{
    "datalore":{
     "node_id":"4Irkgo7q3Ulm6ytfvWQl77",
     "type":"CODE",
     "hide_input_from_viewers":true,
     "hide_output_from_viewers":true
    }
   }
  },
  {
   "cell_type":"markdown",
   "source":[
    "**Now prediction out model**"
   ],
   "attachments":{},
   "metadata":{
    "datalore":{
     "node_id":"Lz6n6ljRGyuBqHUf7cOqlh",
     "type":"MD",
     "hide_input_from_viewers":true,
     "hide_output_from_viewers":true
    }
   }
  },
  {
   "cell_type":"code",
   "source":[
    "pred = lin_reg.predict(X_test)\n",
    "pred"
   ],
   "execution_count":null,
   "outputs":[
    {
     "data":{
      "text\/plain":[
       "array([1308536.13592601, 1237122.72746459, 1243835.62817083, ..., 1457119.79297222, 1483428.953093  , 1047510.59737207])"
      ]
     },
     "metadata":{},
     "output_type":"display_data"
    }
   ],
   "metadata":{
    "datalore":{
     "node_id":"4b1mVM3lLeRqG471vr7MoB",
     "type":"CODE",
     "hide_input_from_viewers":true,
     "hide_output_from_viewers":true
    }
   }
  },
  {
   "cell_type":"code",
   "source":[
    "plt.scatter(y_test,pred)"
   ],
   "execution_count":null,
   "outputs":[
    {
     "data":{
      "text\/plain":[
       "<matplotlib.collections.PathCollection at 0x7fbf248fa2b0>"
      ]
     },
     "metadata":{},
     "output_type":"display_data"
    },
    {
     "data":{},
     "metadata":{},
     "output_type":"display_data"
    }
   ],
   "metadata":{
    "datalore":{
     "node_id":"AbOXAx6zwp4g18NL4hguK2",
     "type":"CODE",
     "hide_input_from_viewers":true,
     "hide_output_from_viewers":true
    }
   }
  },
  {
   "cell_type":"code",
   "source":[
    "sns.displot((y_test - pred), bins =50)"
   ],
   "execution_count":null,
   "outputs":[
    {
     "data":{
      "text\/plain":[
       "<seaborn.axisgrid.FacetGrid at 0x7fbf34569f40>"
      ]
     },
     "metadata":{},
     "output_type":"display_data"
    },
    {
     "data":{},
     "metadata":{},
     "output_type":"display_data"
    }
   ],
   "metadata":{
    "datalore":{
     "node_id":"49QeuSaMXFzwmVCzHr1ZAH",
     "type":"CODE",
     "hide_input_from_viewers":true,
     "hide_output_from_viewers":true
    }
   }
  },
  {
   "cell_type":"code",
   "source":[],
   "execution_count":null,
   "outputs":[],
   "metadata":{
    "datalore":{
     "node_id":"6oh1TPbQVv8rSmbHbaLytp",
     "type":"CODE",
     "hide_input_from_viewers":true,
     "hide_output_from_viewers":true
    }
   }
  }
 ],
 "metadata":{
  "kernelspec":{
   "display_name":"Python",
   "language":"python",
   "name":"python"
  },
  "datalore":{
   "computation_mode":"JUPYTER",
   "package_manager":"pip",
   "base_environment":"default",
   "packages":[],
   "report_row_ids":[],
   "version":3
  }
 },
 "nbformat":4,
 "nbformat_minor":4
}