{
 "cells":[
  {
   "cell_type":"code",
   "source":[
    "import numpy as np\n",
    "import pandas as pd\n",
    "import matplotlib.pyplot as plt\n",
    "import seaborn as sns"
   ],
   "execution_count":null,
   "outputs":[],
   "metadata":{
    "datalore":{
     "node_id":"PGiRmoxCwk2VjugKg7Ld3S",
     "type":"CODE",
     "hide_input_from_viewers":false,
     "hide_output_from_viewers":false
    }
   }
  },
  {
   "cell_type":"code",
   "source":[
    "df = pd.read_csv('USA_Housing.csv')\n",
    "df.head()"
   ],
   "execution_count":null,
   "outputs":[
    {
     "data":{
      "text\/html":[
       "<div>\n",
       "<style scoped>\n",
       "    .dataframe tbody tr th:only-of-type {\n",
       "        vertical-align: middle;\n",
       "    }\n",
       "\n",
       "    .dataframe tbody tr th {\n",
       "        vertical-align: top;\n",
       "    }\n",
       "\n",
       "    .dataframe thead th {\n",
       "        text-align: right;\n",
       "    }\n",
       "<\/style>\n",
       "<table border=\"1\" class=\"dataframe\">\n",
       "  <thead>\n",
       "    <tr style=\"text-align: right;\">\n",
       "      <th><\/th>\n",
       "      <th>Avg. Area Income<\/th>\n",
       "      <th>Avg. Area House Age<\/th>\n",
       "      <th>Avg. Area Number of Rooms<\/th>\n",
       "      <th>Avg. Area Number of Bedrooms<\/th>\n",
       "      <th>Area Population<\/th>\n",
       "      <th>Price<\/th>\n",
       "      <th>Address<\/th>\n",
       "    <\/tr>\n",
       "  <\/thead>\n",
       "  <tbody>\n",
       "    <tr>\n",
       "      <th>0<\/th>\n",
       "      <td>79545.458574<\/td>\n",
       "      <td>5.682861<\/td>\n",
       "      <td>7.009188<\/td>\n",
       "      <td>4.09<\/td>\n",
       "      <td>23086.800503<\/td>\n",
       "      <td>1.059034e+06<\/td>\n",
       "      <td>208 Michael Ferry Apt. 674\\nLaurabury, NE 3701...<\/td>\n",
       "    <\/tr>\n",
       "    <tr>\n",
       "      <th>1<\/th>\n",
       "      <td>79248.642455<\/td>\n",
       "      <td>6.002900<\/td>\n",
       "      <td>6.730821<\/td>\n",
       "      <td>3.09<\/td>\n",
       "      <td>40173.072174<\/td>\n",
       "      <td>1.505891e+06<\/td>\n",
       "      <td>188 Johnson Views Suite 079\\nLake Kathleen, CA...<\/td>\n",
       "    <\/tr>\n",
       "    <tr>\n",
       "      <th>2<\/th>\n",
       "      <td>61287.067179<\/td>\n",
       "      <td>5.865890<\/td>\n",
       "      <td>8.512727<\/td>\n",
       "      <td>5.13<\/td>\n",
       "      <td>36882.159400<\/td>\n",
       "      <td>1.058988e+06<\/td>\n",
       "      <td>9127 Elizabeth Stravenue\\nDanieltown, WI 06482...<\/td>\n",
       "    <\/tr>\n",
       "    <tr>\n",
       "      <th>3<\/th>\n",
       "      <td>63345.240046<\/td>\n",
       "      <td>7.188236<\/td>\n",
       "      <td>5.586729<\/td>\n",
       "      <td>3.26<\/td>\n",
       "      <td>34310.242831<\/td>\n",
       "      <td>1.260617e+06<\/td>\n",
       "      <td>USS Barnett\\nFPO AP 44820<\/td>\n",
       "    <\/tr>\n",
       "    <tr>\n",
       "      <th>4<\/th>\n",
       "      <td>59982.197226<\/td>\n",
       "      <td>5.040555<\/td>\n",
       "      <td>7.839388<\/td>\n",
       "      <td>4.23<\/td>\n",
       "      <td>26354.109472<\/td>\n",
       "      <td>6.309435e+05<\/td>\n",
       "      <td>USNS Raymond\\nFPO AE 09386<\/td>\n",
       "    <\/tr>\n",
       "  <\/tbody>\n",
       "<\/table>\n",
       "<\/div>"
      ]
     },
     "metadata":{},
     "output_type":"display_data"
    }
   ],
   "metadata":{
    "datalore":{
     "node_id":"lktHyF5P640K0hVUaI2DoU",
     "type":"CODE",
     "hide_input_from_viewers":false,
     "hide_output_from_viewers":false
    }
   }
  },
  {
   "cell_type":"code",
   "source":[
    "sns.pairplot(df)"
   ],
   "execution_count":null,
   "outputs":[
    {
     "data":{
      "text\/plain":[
       "<seaborn.axisgrid.PairGrid at 0x7fe902688880>"
      ]
     },
     "metadata":{},
     "output_type":"display_data"
    },
    {
     "data":{},
     "metadata":{},
     "output_type":"display_data"
    }
   ],
   "metadata":{
    "datalore":{
     "node_id":"DqmL8FwlGahafwNePuKnFr",
     "type":"CODE",
     "hide_input_from_viewers":false,
     "hide_output_from_viewers":false
    }
   }
  },
  {
   "cell_type":"code",
   "source":[
    "#check data\n",
    "df.isnull().sum()\n",
    "# there is no null value"
   ],
   "execution_count":null,
   "outputs":[
    {
     "data":{
      "text\/plain":[
       "Avg. Area Income                0\n",
       "Avg. Area House Age             0\n",
       "Avg. Area Number of Rooms       0\n",
       "Avg. Area Number of Bedrooms    0\n",
       "Area Population                 0\n",
       "Price                           0\n",
       "Address                         0\n",
       "dtype: int64"
      ]
     },
     "metadata":{},
     "output_type":"display_data"
    }
   ],
   "metadata":{
    "datalore":{
     "node_id":"c6cgXO7XsCYPkzlok0muBi",
     "type":"CODE",
     "hide_input_from_viewers":false,
     "hide_output_from_viewers":false
    }
   }
  },
  {
   "cell_type":"code",
   "source":[
    "X = df[['Avg. Area Income','Avg. Area House Age', 'Avg. Area Number of Rooms', 'Avg. Area Number of Bedrooms', 'Area Population']]\n",
    "y = df['Price']"
   ],
   "execution_count":null,
   "outputs":[],
   "metadata":{
    "datalore":{
     "node_id":"q2tpw1j70Eh6ruzj3OydqE",
     "type":"CODE",
     "hide_input_from_viewers":false,
     "hide_output_from_viewers":false
    }
   }
  },
  {
   "cell_type":"code",
   "source":[
    "from sklearn.model_selection import train_test_split\n",
    "X_train, X_test, y_train, y_test = train_test_split(X,y,random_state=40,test_size=0.3)"
   ],
   "execution_count":null,
   "outputs":[],
   "metadata":{
    "datalore":{
     "node_id":"D98yGPizNWF49gq5YbRav8",
     "type":"CODE",
     "hide_input_from_viewers":false,
     "hide_output_from_viewers":false
    }
   }
  },
  {
   "cell_type":"code",
   "source":[
    "from sklearn import linear_model\n",
    "reg = linear_model.LinearRegression()\n",
    "reg.fit(X_train,y_train)"
   ],
   "execution_count":null,
   "outputs":[
    {
     "data":{
      "text\/plain":[
       "LinearRegression()"
      ]
     },
     "metadata":{},
     "output_type":"display_data"
    }
   ],
   "metadata":{
    "datalore":{
     "node_id":"Om5DhFL4mNADpiMs7YPwGG",
     "type":"CODE",
     "hide_input_from_viewers":false,
     "hide_output_from_viewers":false
    }
   }
  },
  {
   "cell_type":"code",
   "source":[
    "reg.score(X_train,y_train)"
   ],
   "execution_count":null,
   "outputs":[
    {
     "data":{
      "text\/plain":[
       "0.9200888888234093"
      ]
     },
     "metadata":{},
     "output_type":"display_data"
    }
   ],
   "metadata":{
    "datalore":{
     "node_id":"IJZVwIZYLsZDf0TnW0rwuR",
     "type":"CODE",
     "hide_input_from_viewers":false,
     "hide_output_from_viewers":false
    }
   }
  },
  {
   "cell_type":"code",
   "source":[
    "reg.score(X_test,y_test)"
   ],
   "execution_count":null,
   "outputs":[
    {
     "data":{
      "text\/plain":[
       "0.9130127917669859"
      ]
     },
     "metadata":{},
     "output_type":"display_data"
    }
   ],
   "metadata":{
    "datalore":{
     "node_id":"OTt72PkJaj3joobcQCHu0T",
     "type":"CODE",
     "hide_input_from_viewers":false,
     "hide_output_from_viewers":false
    }
   }
  },
  {
   "cell_type":"code",
   "source":[],
   "execution_count":null,
   "outputs":[],
   "metadata":{
    "datalore":{
     "node_id":"qwgBuvbobggbnHvrwTdEQ9",
     "type":"CODE",
     "hide_input_from_viewers":false,
     "hide_output_from_viewers":false
    }
   }
  }
 ],
 "metadata":{
  "kernelspec":{
   "display_name":"Python",
   "language":"python",
   "name":"python"
  },
  "datalore":{
   "computation_mode":"REACTIVE",
   "packages":[],
   "report_row_ids":[],
   "version":1
  }
 },
 "nbformat":4,
 "nbformat_minor":4
}